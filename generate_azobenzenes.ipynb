{
 "cells": [
  {
   "cell_type": "code",
   "execution_count": 1,
   "metadata": {},
   "outputs": [],
   "source": [
    "import os\n",
    "import sys\n",
    "import pandas as pd\n",
    "sys.path.append(\"/groups/kemi/brq616/speciale/opt/xTB/tQMC/QMC\")\n",
    "\n",
    "from qmmol import QMMol\n",
    "from qmconf import QMConf\n",
    "\n",
    "from rdkit.Chem import AllChem\n",
    "from rdkit.Chem import Draw\n",
    "from rdkit.Chem.Draw import IPythonConsole\n",
    "\n",
    "from rdkit.Chem import rdchem\n",
    "from tqdm import tqdm\n",
    "import time\n",
    "from rdkit import Chem, rdBase\n",
    "import itertools\n",
    "import hashlib\n",
    "from rdkit.Chem import rdMolDescriptors as rdMD\n",
    "from rdkit.Chem import Descriptors\n",
    "import logging\n",
    "\n"
   ]
  },
  {
   "cell_type": "code",
   "execution_count": 2,
   "metadata": {},
   "outputs": [],
   "source": [
    "rdBase.DisableLog('rdApp.error')  # disable RDKit warning messages\n",
    "# Set up logging\n",
    "logging.basicConfig(level=logging.INFO)"
   ]
  },
  {
   "cell_type": "code",
   "execution_count": 3,
   "metadata": {},
   "outputs": [],
   "source": [
    "def generate_molecules(base_mol, substituents, indices, max_subs):\n",
    "    new_mols = set()\n",
    "    failed = 0\n",
    "\n",
    "    for num_subs in range(1, min(max_subs, len(indices), len(substituents)) + 1):\n",
    "        for subs in itertools.combinations_with_replacement(substituents, num_subs):\n",
    "            for inds in itertools.combinations(indices, num_subs):\n",
    "                new_mol = Chem.RWMol(base_mol)\n",
    "                for (sub, sub_index, bond_type), base_index in zip(subs, inds):\n",
    "                    num_atoms_new = new_mol.GetNumAtoms()\n",
    "                    for atom in sub.GetAtoms():\n",
    "                        new_mol.AddAtom(atom)\n",
    "                    for bond in sub.GetBonds():\n",
    "                        new_mol.AddBond(bond.GetBeginAtomIdx() + num_atoms_new, bond.GetEndAtomIdx() + num_atoms_new, bond.GetBondType())\n",
    "                    new_mol.AddBond(base_index, num_atoms_new + sub_index, bond_type)\n",
    "                try:\n",
    "                    Chem.SanitizeMol(new_mol)\n",
    "                    new_mols.add(new_mol)\n",
    "                except:\n",
    "                    failed += 1\n",
    "\n",
    "    logging.debug(f'Failed sanitizations: {failed}')                \n",
    "    return new_mols\n",
    "\n",
    "def generate_and_print_molecules(base_molecule, substituents, positions, max_subs, ring_side, position_type):\n",
    "    all_new_molecules = set()\n",
    "    logging.debug(f\"Generating {ring_side} ring {position_type} positions with up to {max_subs} substitutions\")\n",
    "    for num_subs in range(0, max_subs+1):\n",
    "        new_molecules = generate_molecules(base_molecule, substituents, positions, num_subs)\n",
    "        all_new_molecules.update(new_molecules)\n",
    "    return all_new_molecules\n",
    "\n",
    "def add_atom_numbers(molecule):\n",
    "    # Add atom index property to each atom\n",
    "    for atom in molecule.GetAtoms():\n",
    "        atom.SetProp('molAtomMapNumber', str(atom.GetIdx()))\n",
    "        \n",
    "def validate_molecules(molecule_tuples):\n",
    "    invalid_molecules = []\n",
    "    for (mol, index, bond) in molecule_tuples:\n",
    "        if mol is None:\n",
    "            invalid_molecules.append((mol, index, bond))\n",
    "    return invalid_molecules\n",
    "\n",
    "def get_hashed_label(smiles, length=10):\n",
    "    if smiles is not None:\n",
    "        hashed_label = hashlib.sha1(smiles.encode()).hexdigest()[:length]\n",
    "        return hashed_label\n",
    "    else:\n",
    "        return None\n"
   ]
  },
  {
   "cell_type": "code",
   "execution_count": 4,
   "metadata": {},
   "outputs": [],
   "source": [
    "# Generate SMILES for substituents\n",
    "# each element in the list is a tuple: (substituent, connecting atom index, bond type)\n",
    "\n",
    "electron_withdrawing_substituents = [\n",
    "    (Chem.MolFromSmiles('FC(F)F'), 1, rdchem.BondType.SINGLE),  # Trifluoromethyl\n",
    "    (Chem.MolFromSmiles('Cl'), 0, rdchem.BondType.SINGLE),  # Chloro\n",
    "    (Chem.MolFromSmiles('F'), 0, rdchem.BondType.SINGLE),  # Fluoro\n",
    "    (Chem.MolFromSmiles('I'), 0, rdchem.BondType.SINGLE),  # Iodo\n",
    "    (Chem.MolFromSmiles('Br'), 0, rdchem.BondType.SINGLE),  # Bromo\n",
    "    (Chem.MolFromSmiles('C=O'), 0, rdchem.BondType.SINGLE),  # Carbonyl\n",
    "    (Chem.MolFromSmiles('OC(=O)'), 1, rdchem.BondType.SINGLE),  # Carboxyl\n",
    "    (Chem.MolFromSmiles('NC(=O)'), 1, rdchem.BondType.SINGLE),  # Amide\n",
    "    (Chem.MolFromSmiles('C#N'), 0, rdchem.BondType.TRIPLE),  # Cyano\n",
    "    (Chem.MolFromSmiles('S(=O)(=O)O'), 0, rdchem.BondType.SINGLE),  # Sulfonic acid\n",
    "    (Chem.MolFromSmiles('[N+](=O)[O-]'), 0, rdchem.BondType.SINGLE),  # Nitro\n",
    "]\n",
    "\n",
    "electron_donating_substituents = [\n",
    "    (Chem.MolFromSmiles('N'), 0, rdchem.BondType.SINGLE),  # Amino\n",
    "    (Chem.MolFromSmiles('CO'), 1, rdchem.BondType.SINGLE),  # Methoxy\n",
    "    (Chem.MolFromSmiles('O'), 0, rdchem.BondType.SINGLE),  # Hydroxy\n",
    "    (Chem.MolFromSmiles('C'), 0, rdchem.BondType.SINGLE),  # Methyl\n",
    "    (Chem.MolFromSmiles('CN'), 0, rdchem.BondType.SINGLE),  # Methylamine\n",
    "]\n",
    "\n",
    "electron_donating_rings = [\n",
    "    (Chem.MolFromSmiles('C1=CC=C2C(=C1)C=CS2'), 0, rdchem.BondType.SINGLE),  # Benzothiophene\n",
    "    (Chem.MolFromSmiles('C1=COC=C1'), 0, rdchem.BondType.SINGLE),  # Furan\n",
    "    (Chem.MolFromSmiles('C1=CSC=C1'), 0, rdchem.BondType.SINGLE),  # Thiophene\n",
    "    (Chem.MolFromSmiles('C1=CNC=C1'), 0, rdchem.BondType.SINGLE),  # Pyrrole\n",
    "    (Chem.MolFromSmiles('C1=CN=CN1'), 0, rdchem.BondType.SINGLE),  # Imidazole\n",
    "    (Chem.MolFromSmiles('C1=CON=C1'), 0, rdchem.BondType.SINGLE),  # Isoxazole\n",
    "    (Chem.MolFromSmiles('COc1cccs1'), 5, rdchem.BondType.SINGLE),  # Methoxy-substituted thiophene\n",
    "    (Chem.MolFromSmiles('NCc1cccs1'), 5, rdchem.BondType.SINGLE),  # Amino-substituted thiophene\n",
    "    (Chem.MolFromSmiles('c1cc[nH]c1'), 2, rdchem.BondType.SINGLE),  # Pyrrole\n",
    "    (Chem.MolFromSmiles('c1cc[nH]c1'), 1, rdchem.BondType.SINGLE),  # Pyrrole\n",
    "    (Chem.MolFromSmiles('Cc1cc(C)[nH]n1'), 2, rdchem.BondType.SINGLE),  # Methyl-substituted pyrazole\n",
    "    (Chem.MolFromSmiles('c1cc(C)on1'), 2, rdchem.BondType.SINGLE),  # Methyl-substituted isoxazole\n",
    "]\n",
    "\n",
    "electron_withdrawing_rings = [\n",
    "    (Chem.MolFromSmiles('C1=CC=NC=C1'), 0, rdchem.BondType.SINGLE),  # Pyridine\n",
    "    (Chem.MolFromSmiles('C1=CNN=C1'), 0, rdchem.BondType.SINGLE),  # Pyrazole\n",
    "]\n",
    "\n",
    "steric_blocking_substituents = [\n",
    "    (Chem.MolFromSmiles('C'), 0, rdchem.BondType.SINGLE),  # Methyl\n",
    "    (Chem.MolFromSmiles('CC'), 0, rdchem.BondType.SINGLE),  # Ethyl\n",
    "    (Chem.MolFromSmiles('C(C)C'), 0, rdchem.BondType.SINGLE),  # Isopropyl\n",
    "    (Chem.MolFromSmiles('C(C)(C)C'), 0, rdchem.BondType.SINGLE)  # Tert-butyl\n",
    "]\n",
    "# # Validate substituent molecules\n",
    "# invalid_substituent_EWG = validate_molecules(electron_withdraw_substituents)\n",
    "# print(\"Invalid EWG substituents:\", invalid_substituent_EWG)\n",
    "\n",
    "# # Validate substituent molecules\n",
    "# invalid_substituent_EDG = validate_molecules(electron_donating_substituents)\n",
    "# print(\"Invalid EDG substituents:\", invalid_substituent_EDG)\n",
    "\n",
    "# # Validate ring substituent molecules\n",
    "# invalid_ring_sub_EDG = validate_molecules(electron_donating_rings)\n",
    "# print(\"Invalid EDG rings:\", invalid_ring_sub_EDG)\n",
    "\n",
    "# # Validate ring substituent molecules\n",
    "# invalid_ring_sub_EWG = validate_molecules(electron_withdrawing_rings)\n",
    "# print(\"Invalid EWG rings:\", invalid_ring_sub_EWG)"
   ]
  },
  {
   "cell_type": "code",
   "execution_count": 6,
   "metadata": {},
   "outputs": [
    {
     "data": {
      "image/png": "[encoded data removed]",
      "text/plain": [
       "<rdkit.Chem.rdchem.Mol at 0x7f365fed29d0>"
      ]
     },
     "execution_count": 6,
     "metadata": {},
     "output_type": "execute_result"
    }
   ],
   "source": [
    "# Load the azobenzene structure\n",
    "azobenzene = Chem.MolFromSmiles('C1=CC=C(C=C1)N=NC2=CC=CC=C2')\n",
    "add_atom_numbers(azobenzene)\n",
    "azobenzene"
   ]
  },
  {
   "cell_type": "code",
   "execution_count": 7,
   "metadata": {},
   "outputs": [
    {
     "data": {
      "image/png": "[encoded data removed]",
      "text/plain": [
       "<rdkit.Chem.rdchem.Mol at 0x7f365fed2a40>"
      ]
     },
     "execution_count": 7,
     "metadata": {},
     "output_type": "execute_result"
    }
   ],
   "source": [
    "half_azobenzene = Chem.MolFromSmiles('C1=CC=C(C=C1)N=N')\n",
    "add_atom_numbers(half_azobenzene)\n",
    "half_azobenzene"
   ]
  },
  {
   "cell_type": "code",
   "execution_count": 8,
   "metadata": {},
   "outputs": [
    {
     "name": "stderr",
     "output_type": "stream",
     "text": [
      "INFO:root:Generating push-pull azobenzene variations\n"
     ]
    },
    {
     "name": "stderr",
     "output_type": "stream",
     "text": [
      "INFO:root:Generating azobenzene variations that hinder ts\n",
      "INFO:root:Generating half-azobenzene variations with different rings\n",
      "INFO:root:Adding subs to the half-azobenzene variations\n",
      "INFO:root:Generated a total of 5995 new molecules.\n"
     ]
    }
   ],
   "source": [
    "# Generate azobenzene variations\n",
    "azobenzene = Chem.MolFromSmiles('C1=CC=C(C=C1)N=NC2=CC=CC=C2')\n",
    "all_positions = [0, 1, 2, 4, 5, 9, 10, 11, 12, 13]\n",
    "\n",
    "ortho_positions = [2, 4, 9, 13]\n",
    "meta_positions = [1, 5, 10, 12]\n",
    "para_positions = [0, 11]\n",
    "\n",
    "left_ring = [0, 1, 2, 4, 5]\n",
    "left_ring_meta = [1, 5]\n",
    "left_ring_ortho = [2, 4]\n",
    "left_ring_para = [0]\n",
    "\n",
    "right_ring = [9, 10, 11, 12, 13]\n",
    "right_ring_meta = [10, 12]\n",
    "right_ring_ortho = [9, 13]\n",
    "right_ring_para = [11]\n",
    "\n",
    "all_new_molecules = set()\n",
    "max_subs_para = 1\n",
    "max_subs_ortho = 2\n",
    "max_subs_meta = 2\n",
    "\n",
    "logging.info('Generating push-pull azobenzene variations')\n",
    "\n",
    "# Generate molecules with electron-donating substituents on the left ring\n",
    "new_azobenzenes_meta = generate_and_print_molecules(azobenzene, electron_donating_substituents, left_ring_meta, max_subs_meta, 'left', 'meta')\n",
    "new_azobenzenes_para = generate_and_print_molecules(azobenzene, electron_donating_substituents, left_ring_para, max_subs_para, 'left', 'para')\n",
    "\n",
    "# Generate molecules with electron-withdrawing substituents on the right ring\n",
    "for new_azobenzene in new_azobenzenes_meta:\n",
    "    all_new_molecules.update(generate_and_print_molecules(new_azobenzene, electron_withdrawing_substituents, right_ring_meta, max_subs_meta, 'right', 'meta'))\n",
    "    all_new_molecules.update(generate_and_print_molecules(new_azobenzene, electron_withdrawing_substituents, right_ring_para, max_subs_para, 'right', 'para'))\n",
    "\n",
    "for new_azobenzene in new_azobenzenes_para:\n",
    "    all_new_molecules.update(generate_and_print_molecules(new_azobenzene, electron_withdrawing_substituents, right_ring_meta, max_subs_meta, 'right', 'meta'))\n",
    "    all_new_molecules.update(generate_and_print_molecules(new_azobenzene, electron_withdrawing_substituents, right_ring_para, max_subs_para, 'right', 'para'))\n",
    "\n",
    "logging.info('Generating azobenzene variations that hinder ts')\n",
    "\n",
    "# Add substituents that destabilize the z isomer \n",
    "steric_azobenzenes = generate_and_print_molecules(azobenzene, steric_blocking_substituents, ortho_positions, max_subs_ortho, 'both', 'ortho')\n",
    "\n",
    "for new_steric_azobenzene_right in steric_azobenzenes:\n",
    "    more_steric_azobenzenes_right = generate_molecules(new_steric_azobenzene_right, electron_withdrawing_substituents, right_ring_para, 1)\n",
    "    for num_subs in range(0,2):      \n",
    "        for new_azobenzene_left in more_steric_azobenzenes_right:\n",
    "            more_steric_azobenzenes = generate_molecules(new_azobenzene_left, electron_donating_substituents, left_ring_para, num_subs)\n",
    "            all_new_molecules.update(more_steric_azobenzenes)\n",
    "\n",
    "# Generate half-azobenzene variations with the ring substituents\n",
    "half_azobenzene = Chem.MolFromSmiles('C1=CC=C(C=C1)N=N')\n",
    "ring_sub_placement = [7]\n",
    "ring_subs = electron_donating_rings + electron_withdrawing_rings\n",
    "\n",
    "logging.info('Generating half-azobenzene variations with different rings')\n",
    "\n",
    "half_azobenzenes_ring_subs = generate_molecules(half_azobenzene, ring_subs, ring_sub_placement, 1)\n",
    "\n",
    "# Expand each of the molecules with the ring substituent by adding up to three additional substituents at the sub placements\n",
    "ring_positions = [0, 1, 2, 4, 5]\n",
    "\n",
    "logging.info(\"Adding subs to the half-azobenzene variations\")\n",
    "\n",
    "for max_subs in range(0, 4):\n",
    "    # Generate molecules with electron-donating substituents\n",
    "    for mol in half_azobenzenes_ring_subs:\n",
    "        all_new_molecules.update(generate_and_print_molecules(mol, electron_donating_substituents, left_ring_meta, 2, 'half-azobenzene', 'electron-donating meta'))\n",
    "        new_ortho = generate_and_print_molecules(mol, electron_donating_substituents, left_ring_ortho, 2, 'half-azobenzene', 'electron-donating ortho')\n",
    "        all_new_molecules.update(new_ortho)\n",
    "        for ortho_mol in new_ortho:\n",
    "            added_para = generate_and_print_molecules(mol, electron_donating_substituents, left_ring_para, 1, 'half-azobenzene', 'electron-donating para')\n",
    "            all_new_molecules.update(added_para)\n",
    "            \n",
    "    # Generate molecules with electron-withdrawing substituents\n",
    "    for mol in half_azobenzenes_ring_subs:\n",
    "        all_new_molecules.update(generate_and_print_molecules(mol, electron_withdrawing_substituents, left_ring_meta, 2, 'half-azobenzene', 'electron-withdrawing meta'))\n",
    "        new_ortho = generate_and_print_molecules(mol, electron_withdrawing_substituents, left_ring_ortho, 2, 'half-azobenzene', 'electron-withdrawing ortho')\n",
    "        all_new_molecules.update(new_ortho)\n",
    "        for ortho_mol in new_ortho:\n",
    "            added_para = generate_and_print_molecules(mol, electron_withdrawing_substituents, left_ring_para, 1, 'half-azobenzene', 'electron-withdrawing para')\n",
    "            all_new_molecules.update(added_para)\n",
    "# Convert all new molecules to SMILES strings\n",
    "all_new_molecules_smiles = {Chem.MolToSmiles(mol, canonical=True) for mol in all_new_molecules}\n",
    "\n",
    "logging.info(f\"Generated a total of {len(all_new_molecules_smiles)} new molecules.\")\n"
   ]
  },
  {
   "cell_type": "code",
   "execution_count": 9,
   "metadata": {},
   "outputs": [
    {
     "name": "stderr",
     "output_type": "stream",
     "text": [
      "100%|██████████| 5995/5995 [00:09<00:00, 634.21it/s]\n"
     ]
    }
   ],
   "source": [
    "input_df = pd.DataFrame(columns=['comp_name', 'smiles', 'charge', 'multiplicity'])\n",
    "\n",
    "for smiles in tqdm(all_new_molecules_smiles):\n",
    "    mol = Chem.MolFromSmiles(smiles)\n",
    "    comp_hash = get_hashed_label(smiles)\n",
    "    comp_name = f\"azo_{comp_hash}\"\n",
    "    charge = 0\n",
    "    multiplicity = 1 \n",
    "\n",
    "    input_df = pd.concat([input_df, pd.DataFrame([{'comp_name': comp_name, 'smiles': smiles, 'charge': charge, 'multiplicity': multiplicity}])], ignore_index=True)\n",
    "\n",
    "input_df['molecular_weight'] = input_df['smiles'].apply(lambda x: Descriptors.MolWt(Chem.MolFromSmiles(x)))"
   ]
  },
  {
   "cell_type": "markdown",
   "metadata": {},
   "source": [
    "print(f\"Generated a total of {len(all_new_molecules_smiles)} new molecules.\")\n"
   ]
  },
  {
   "cell_type": "code",
   "execution_count": 11,
   "metadata": {},
   "outputs": [],
   "source": [
    "# save to csv\n",
    "input_df.to_csv('molecules.csv', index=False)"
   ]
  }
 ],
 "metadata": {
  "kernelspec": {
   "display_name": "base",
   "language": "python",
   "name": "python3"
  },
  "language_info": {
   "codemirror_mode": {
    "name": "ipython",
    "version": 3
   },
   "file_extension": ".py",
   "mimetype": "text/x-python",
   "name": "python",
   "nbconvert_exporter": "python",
   "pygments_lexer": "ipython3",
   "version": "3.10.10"
  },
  "orig_nbformat": 4
 },
 "nbformat": 4,
 "nbformat_minor": 2
}
