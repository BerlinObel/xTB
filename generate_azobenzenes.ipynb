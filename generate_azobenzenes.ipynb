{
 "cells": [
  {
   "cell_type": "code",
   "execution_count": 32,
   "metadata": {},
   "outputs": [],
   "source": [
    "import os\n",
    "import sys\n",
    "sys.path.append(\"/groups/kemi/brq616/speciale/opt/xTB/tQMC/QMC\")\n",
    "\n",
    "import logging\n",
    "from rdkit.Chem import Descriptors\n",
    "from rdkit.Chem import rdMolDescriptors as rdMD\n",
    "import hashlib\n",
    "import itertools\n",
    "from itertools import product\n",
    "from rdkit import Chem, rdBase\n",
    "import time\n",
    "from tqdm import tqdm\n",
    "from rdkit.Chem import rdchem\n",
    "from rdkit.Chem.Draw import IPythonConsole\n",
    "from rdkit.Chem import Draw\n",
    "from rdkit.Chem import AllChem\n",
    "from qmconf import QMConf\n",
    "from qmmol import QMMol\n",
    "import pandas as pd\n",
    "import random\n",
    "import matplotlib.pyplot as plt"
   ]
  },
  {
   "cell_type": "code",
   "execution_count": 33,
   "metadata": {},
   "outputs": [],
   "source": [
    "rdBase.DisableLog('rdApp.error')  # disable RDKit warning messages\n",
    "# Set up logging\n",
    "logging.basicConfig(level=logging.INFO)"
   ]
  },
  {
   "cell_type": "code",
   "execution_count": 34,
   "metadata": {},
   "outputs": [],
   "source": [
    "def generate_molecules(base_mol, substituents, indices, max_subs, min_subs=0):\n",
    "    new_mols = set()\n",
    "    failed = 0\n",
    "    max_possible_subs = min(max_subs, len(indices), len(substituents))\n",
    "    total_subs_range = max_possible_subs + 1\n",
    "\n",
    "    for num_subs in range(min_subs, total_subs_range):\n",
    "        for subs in itertools.combinations_with_replacement(substituents, num_subs):\n",
    "            for inds in itertools.combinations(indices, num_subs):\n",
    "                new_mol = Chem.RWMol(base_mol)\n",
    "                for (sub, sub_index, bond_type), base_index in zip(subs, inds):\n",
    "                    num_atoms_new = new_mol.GetNumAtoms()\n",
    "                    for atom in sub.GetAtoms():\n",
    "                        new_mol.AddAtom(atom)\n",
    "                    for bond in sub.GetBonds():\n",
    "                        new_mol.AddBond(bond.GetBeginAtomIdx(\n",
    "                        ) + num_atoms_new, bond.GetEndAtomIdx() + num_atoms_new, bond.GetBondType())\n",
    "                    new_mol.AddBond(\n",
    "                        base_index, num_atoms_new + sub_index, bond_type)\n",
    "                try:\n",
    "                    Chem.SanitizeMol(new_mol)\n",
    "                    new_mols.add(new_mol)\n",
    "                except:\n",
    "                    failed += 1\n",
    "\n",
    "    logging.debug(f'Failed sanitizations: {failed}')\n",
    "    return new_mols\n",
    "\n",
    "\n",
    "def visualize_molecule(molecule):\n",
    "    if isinstance(molecule, str):\n",
    "        molecule = Chem.MolFromSmiles(molecule)\n",
    "    \n",
    "    img = Draw.MolToImage(molecule)\n",
    "    display(img)\n",
    "\n",
    "\n",
    "\n",
    "def replace_atoms(base_smiles, atom_list, indices):\n",
    "    new_mols = set()\n",
    "    atom_combinations = product(atom_list, repeat=len(indices))\n",
    "    \n",
    "    for atom_combination in atom_combinations:\n",
    "        new_smiles = base_smiles\n",
    "        for idx, replacement_atom in zip(indices, atom_combination):\n",
    "            new_smiles = new_smiles.replace('*', replacement_atom, 1)\n",
    "        \n",
    "        new_mol = Chem.MolFromSmiles(new_smiles)\n",
    "        if new_mol:\n",
    "            try:\n",
    "                Chem.SanitizeMol(new_mol)\n",
    "                new_mols.add(new_mol)\n",
    "            except:\n",
    "                print(f\"Failed to sanitize molecule: {new_smiles}\")\n",
    "        else:\n",
    "            print(f\"Failed to create molecule: {new_smiles}\")\n",
    "\n",
    "    return new_mols\n",
    "\n",
    "\n",
    "def generate_and_print_molecules(base_molecule, substituents, positions, \n",
    "                                 max_subs, ring_side, position_type):    \n",
    "    all_new_molecules = set()\n",
    "    logging.debug(\n",
    "        f\"\"\"Generating {ring_side} ring {position_type} positions \n",
    "        with up to {max_subs} substitutions\"\"\")\n",
    "    for num_subs in range(0, max_subs+1):\n",
    "        new_molecules = generate_molecules(\n",
    "            base_molecule, substituents, positions, num_subs)\n",
    "        all_new_molecules.update(new_molecules)\n",
    "    return all_new_molecules\n",
    "\n",
    "\n",
    "def add_atom_numbers(molecule):\n",
    "    # Add atom index property to each atom\n",
    "    for atom in molecule.GetAtoms():\n",
    "        atom.SetProp('molAtomMapNumber', str(atom.GetIdx()))\n",
    "\n",
    "\n",
    "def validate_molecules(molecule_tuples):\n",
    "    invalid_molecules = []\n",
    "    for (mol, index, bond) in molecule_tuples:\n",
    "        if mol is None:\n",
    "            invalid_molecules.append((mol, index, bond))\n",
    "    return invalid_molecules\n",
    "\n",
    "\n",
    "def get_hashed_label(smiles, length=10):\n",
    "    if smiles is not None:\n",
    "        hashed_label = hashlib.sha1(smiles.encode()).hexdigest()[:length]\n",
    "        return hashed_label\n",
    "    else:\n",
    "        return None\n",
    "\n",
    "class MoleculeSet:\n",
    "    def __init__(self):\n",
    "        self._molecules = set()\n",
    "        \n",
    "    def smiles(self):\n",
    "        for smiles_str in self._molecules:\n",
    "            yield smiles_str\n",
    "    \n",
    "    def update_with_canonical_smiles(self, new_molecules):\n",
    "        canonical_smiles = {Chem.MolToSmiles(mol, canonical=True) for mol in new_molecules}\n",
    "        self._molecules.update(canonical_smiles)\n",
    "\n",
    "    def __len__(self):\n",
    "        return len(self._molecules)"
   ]
  },
  {
   "cell_type": "code",
   "execution_count": 35,
   "metadata": {},
   "outputs": [
    {
     "data": {
      "image/png": "[encoded data removed]",
      "text/plain": [
       "<rdkit.Chem.rdchem.Mol at 0x7f8fd4d71540>"
      ]
     },
     "execution_count": 35,
     "metadata": {},
     "output_type": "execute_result"
    }
   ],
   "source": [
    "sub = Chem.MolFromSmiles('C1=CN=CN1')\n",
    "# add_atom_numbers(sub)\n",
    "sub"
   ]
  },
  {
   "cell_type": "code",
   "execution_count": 36,
   "metadata": {},
   "outputs": [],
   "source": [
    "# Generate SMILES for substituents\n",
    "# each element in the list is a tuple: (substituent, connecting atom index, bond type)\n",
    "\n",
    "electron_withdrawing_substituents = [\n",
    "    (Chem.MolFromSmiles('FC(F)F'), 1, rdchem.BondType.SINGLE),  # Trifluoromethyl\n",
    "    (Chem.MolFromSmiles('Cl'), 0, rdchem.BondType.SINGLE),  # Chloro\n",
    "    # (Chem.MolFromSmiles('F'), 0, rdchem.BondType.SINGLE),  # Fluoro\n",
    "    (Chem.MolFromSmiles('I'), 0, rdchem.BondType.SINGLE),  # Iodo\n",
    "    # (Chem.MolFromSmiles('Br'), 0, rdchem.BondType.SINGLE),  # Bromo\n",
    "    (Chem.MolFromSmiles('C=O'), 0, rdchem.BondType.SINGLE),  # Carbonyl\n",
    "    (Chem.MolFromSmiles('OC(=O)'), 1, rdchem.BondType.SINGLE),  # Carboxyl\n",
    "    (Chem.MolFromSmiles('NC(=O)'), 1, rdchem.BondType.SINGLE),  # Amide\n",
    "    (Chem.MolFromSmiles('C#N'), 0, rdchem.BondType.SINGLE),  # Cyano\n",
    "    (Chem.MolFromSmiles('S(=O)(=O)O'), 0, rdchem.BondType.SINGLE),  # Sulfonic acid\n",
    "    # (Chem.MolFromSmiles('[N+](=O)[O-]'), 0, rdchem.BondType.SINGLE),  # Nitro\n",
    "]\n",
    "extra_electron_withdrawing_substituents = [\n",
    "    (Chem.MolFromSmiles('F'), 0, rdchem.BondType.SINGLE),  # Fluoro\n",
    "    (Chem.MolFromSmiles('Br'), 0, rdchem.BondType.SINGLE),  # Bromo\n",
    "    # (Chem.MolFromSmiles('[N+](=O)[O-]'), 0, rdchem.BondType.SINGLE),  # Nitro\n",
    "    (Chem.MolFromSmiles('C1=CNN=C1'), 2, rdchem.BondType.SINGLE),  # Pyrazole\n",
    "    \n",
    "]\n",
    "electron_donating_substituents = [\n",
    "    (Chem.MolFromSmiles('N'), 0, rdchem.BondType.SINGLE),  # Amino\n",
    "    (Chem.MolFromSmiles('CO'), 1, rdchem.BondType.SINGLE),  # Methoxy\n",
    "    (Chem.MolFromSmiles('O'), 0, rdchem.BondType.SINGLE),  # Hydroxy\n",
    "    (Chem.MolFromSmiles('C'), 0, rdchem.BondType.SINGLE),  # Methyl\n",
    "    (Chem.MolFromSmiles('CN'), 0, rdchem.BondType.SINGLE),  # Methylamine\n",
    "]\n",
    "\n",
    "extra_electron_donating_substituents = [\n",
    "    (Chem.MolFromSmiles('C1=CC=CC=C1'), 0, rdchem.BondType.SINGLE),  # Phenyl\n",
    "    (Chem.MolFromSmiles('C1=COC=C1'), 0, rdchem.BondType.SINGLE),\n",
    "    (Chem.MolFromSmiles('C1=CN=CN1'), 0, rdchem.BondType.SINGLE)\n",
    "]\n",
    "electron_donating_rings = [\n",
    "    (Chem.MolFromSmiles('C1=CC=C2C(=C1)C=CS2'),\n",
    "     0, rdchem.BondType.SINGLE),  # Benzothiophene\n",
    "    (Chem.MolFromSmiles('C1=COC=C1'), 0, rdchem.BondType.SINGLE),  # Furan\n",
    "    (Chem.MolFromSmiles('C1=CSC=C1'), 0, rdchem.BondType.SINGLE),  # Thiophene\n",
    "    (Chem.MolFromSmiles('C1=CNC=C1'), 0, rdchem.BondType.SINGLE),  # Pyrrole\n",
    "    (Chem.MolFromSmiles('C1=CN=CN1'), 0, rdchem.BondType.SINGLE),  # Imidazole\n",
    "    (Chem.MolFromSmiles('C1=CON=C1'), 0, rdchem.BondType.SINGLE),  # Isoxazole\n",
    "    # Methoxy-substituted thiophene\n",
    "    (Chem.MolFromSmiles('COc1cccs1'), 5, rdchem.BondType.SINGLE),\n",
    "    # Amino-substituted thiophene\n",
    "    (Chem.MolFromSmiles('NCc1cccs1'), 5, rdchem.BondType.SINGLE),\n",
    "    (Chem.MolFromSmiles('c1cc[nH]c1'), 2, rdchem.BondType.SINGLE),  # Pyrrole\n",
    "    (Chem.MolFromSmiles('c1cc[nH]c1'), 1, rdchem.BondType.SINGLE),  # Pyrrole\n",
    "    # Methyl-substituted pyrazole\n",
    "    (Chem.MolFromSmiles('Cc1cc(C)[nH]n1'), 2, rdchem.BondType.SINGLE),\n",
    "    # Methyl-substituted isoxazole\n",
    "    (Chem.MolFromSmiles('c1cc(C)on1'), 2, rdchem.BondType.SINGLE),\n",
    "]\n",
    "\n",
    "electron_withdrawing_rings = [\n",
    "    (Chem.MolFromSmiles('C1=CC=NC=C1'), 0, rdchem.BondType.SINGLE),  # Pyridine\n",
    "    (Chem.MolFromSmiles('C1=CNN=C1'), 0, rdchem.BondType.SINGLE),  # Pyrazole\n",
    "    (Chem.MolFromSmiles('c2ccc(n1cccn1)nc2'), 6, rdchem.BondType.SINGLE),  # Pyrazole with nitrogen substituted phenyl\n",
    "    (Chem.MolFromSmiles('Oc2cccc(c1cc[nH]n1)c2'), 8, rdchem.BondType.SINGLE),  # Pyrazole with phenol\n",
    "    (Chem.MolFromSmiles('c2ccc1n[nH]cc1c2'), 0, rdchem.BondType.SINGLE),  # Pyrazole extended with benzene\n",
    "]\n",
    "\n",
    "steric_blocking_substituents = [\n",
    "    (Chem.MolFromSmiles('C(C)C'), 0, rdchem.BondType.SINGLE),  # Isopropyl\n",
    "    (Chem.MolFromSmiles('C(C)(C)C'), 0, rdchem.BondType.SINGLE),  # Tert-butyl\n",
    "    (Chem.MolFromSmiles('FC(F)F'), 1, rdchem.BondType.SINGLE),  # Trifluoromethyl\n",
    "    (Chem.MolFromSmiles('I'), 0, rdchem.BondType.SINGLE),  # Iodo\n",
    "]\n",
    "# Validate substituent molecules\n",
    "# invalid_substituent_EWG = validate_molecules(electron_withdrawing_substituents)\n",
    "# print(\"Invalid EWG substituents:\", invalid_substituent_EWG)\n",
    "# \n",
    "# Validate substituent molecules\n",
    "# invalid_substituent_EDG = validate_molecules(electron_donating_substituents)\n",
    "# print(\"Invalid EDG substituents:\", invalid_substituent_EDG)\n",
    "# \n",
    "# Validate ring substituent molecules\n",
    "# invalid_ring_sub_EDG = validate_molecules(electron_donating_rings)\n",
    "# print(\"Invalid EDG rings:\", invalid_ring_sub_EDG)\n",
    "# \n",
    "# Validate ring substituent molecules\n",
    "# invalid_ring_sub_EWG = validate_molecules(electron_withdrawing_rings)\n",
    "# print(\"Invalid EWG rings:\", invalid_ring_sub_EWG)"
   ]
  },
  {
   "cell_type": "code",
   "execution_count": 37,
   "metadata": {},
   "outputs": [],
   "source": [
    "all_new_molecules = MoleculeSet()"
   ]
  },
  {
   "cell_type": "code",
   "execution_count": 38,
   "metadata": {},
   "outputs": [
    {
     "data": {
      "image/png": "[encoded data removed]",
      "text/plain": [
       "<rdkit.Chem.rdchem.Mol at 0x7f8fcfb34900>"
      ]
     },
     "execution_count": 38,
     "metadata": {},
     "output_type": "execute_result"
    }
   ],
   "source": [
    "# Load the azobenzene structure\n",
    "azobenzene = Chem.MolFromSmiles('C1=CC=C(C=C1)/N=N/C2=CC=CC=C2')\n",
    "#add_atom_numbers(azobenzene)\n",
    "azobenzene\n",
    "\n"
   ]
  },
  {
   "cell_type": "code",
   "execution_count": 39,
   "metadata": {},
   "outputs": [
    {
     "name": "stderr",
     "output_type": "stream",
     "text": [
      "INFO:root:Generating push-pull azobenzene variations\n"
     ]
    },
    {
     "name": "stderr",
     "output_type": "stream",
     "text": [
      "INFO:root:Generated a total of 4028 new molecules.\n",
      "INFO:root:Generating azobenzene variations that hinder ts\n",
      "INFO:root:Generated a total of 7253 new molecules.\n"
     ]
    }
   ],
   "source": [
    "# Generate azobenzene variations\n",
    "azobenzene = Chem.MolFromSmiles('C1=CC=C(C=C1)/N=N/C2=CC=CC=C2')\n",
    "all_positions = [0, 1, 2, 4, 5, 9, 10, 11, 12, 13]\n",
    "\n",
    "ortho_positions = [2, 4, 9, 13]\n",
    "meta_positions = [1, 5, 10, 12]\n",
    "para_positions = [0, 11]\n",
    "\n",
    "left_ring = [0, 1, 2, 4, 5]\n",
    "left_ring_meta = [1, 5]\n",
    "left_ring_ortho = [2, 4]\n",
    "left_ring_para = [0]\n",
    "\n",
    "right_ring = [9, 10, 11, 12, 13]\n",
    "right_ring_meta = [10, 12]\n",
    "right_ring_ortho = [9, 13]\n",
    "right_ring_para = [11]\n",
    "\n",
    "max_subs_para = 1\n",
    "max_subs_ortho = 2\n",
    "max_subs_meta = 2\n",
    "\n",
    "logging.info('Generating push-pull azobenzene variations')\n",
    "\n",
    "# Generate molecules with electron-donating substituents on the left ring\n",
    "new_azobenzenes_meta = generate_and_print_molecules(\n",
    "    azobenzene, electron_donating_substituents+extra_electron_donating_substituents, left_ring_meta, max_subs_meta, 'left', 'meta')\n",
    "new_azobenzenes_para = generate_and_print_molecules(\n",
    "    azobenzene, electron_donating_substituents+extra_electron_donating_substituents, left_ring_para, max_subs_para, 'left', 'para')\n",
    "\n",
    "# Generate molecules with electron-withdrawing substituents on the right ring\n",
    "for new_azobenzene in new_azobenzenes_meta:\n",
    "    all_new_molecules.update_with_canonical_smiles(generate_and_print_molecules(\n",
    "        new_azobenzene, electron_withdrawing_substituents+extra_electron_withdrawing_substituents, right_ring_meta, max_subs_meta, 'right', 'meta'))\n",
    "    all_new_molecules.update_with_canonical_smiles(generate_and_print_molecules(\n",
    "        new_azobenzene, electron_withdrawing_substituents+extra_electron_withdrawing_substituents, right_ring_para, max_subs_para, 'right', 'para'))\n",
    "\n",
    "for new_azobenzene in new_azobenzenes_para:\n",
    "    all_new_molecules.update_with_canonical_smiles(generate_and_print_molecules(\n",
    "        new_azobenzene, electron_withdrawing_substituents+extra_electron_withdrawing_substituents, right_ring_meta, max_subs_meta, 'right', 'meta'))\n",
    "    all_new_molecules.update_with_canonical_smiles(generate_and_print_molecules(\n",
    "        new_azobenzene, electron_withdrawing_substituents+extra_electron_withdrawing_substituents, right_ring_para, max_subs_para, 'right', 'para'))\n",
    "logging.info(\n",
    "    f\"Generated a total of {len(all_new_molecules)} new molecules.\")\n",
    "logging.info('Generating azobenzene variations that hinder ts')\n",
    "\n",
    "# Add substituents that destabilize the z isomer\n",
    "steric_azobenzenes = generate_and_print_molecules(\n",
    "    azobenzene, steric_blocking_substituents, ortho_positions, max_subs_ortho, 'both', 'ortho')\n",
    "\n",
    "for new_steric_azobenzene_right in steric_azobenzenes:\n",
    "    more_steric_azobenzenes_right = generate_molecules(\n",
    "        new_steric_azobenzene_right, electron_withdrawing_substituents+extra_electron_withdrawing_substituents, right_ring_para, 1)\n",
    "    for new_azobenzene_left in more_steric_azobenzenes_right:\n",
    "        more_steric_azobenzenes = generate_molecules(\n",
    "            new_azobenzene_left, electron_donating_substituents+extra_electron_withdrawing_substituents, left_ring_para, 1)\n",
    "        all_new_molecules.update_with_canonical_smiles(more_steric_azobenzenes)\n",
    "\n",
    "logging.info(\n",
    "    f\"Generated a total of {len(all_new_molecules)} new molecules.\")\n"
   ]
  },
  {
   "cell_type": "code",
   "execution_count": 40,
   "metadata": {},
   "outputs": [
    {
     "data": {
      "image/png": "[encoded data removed]",
      "text/plain": [
       "<rdkit.Chem.rdchem.Mol at 0x7f8fcfbe66c0>"
      ]
     },
     "execution_count": 40,
     "metadata": {},
     "output_type": "execute_result"
    }
   ],
   "source": [
    "half_azobenzene = Chem.MolFromSmiles('C1=CC=C(C=C1)/N=N')\n",
    "# add_atom_numbers(half_azobenzene)\n",
    "half_azobenzene"
   ]
  },
  {
   "cell_type": "code",
   "execution_count": 41,
   "metadata": {},
   "outputs": [
    {
     "name": "stderr",
     "output_type": "stream",
     "text": [
      "INFO:root:Generating half-azobenzene variations with different rings\n",
      "INFO:root:Adding subs to the half-azobenzene variations\n",
      "INFO:root:Generated a total of 9383 new molecules.\n"
     ]
    }
   ],
   "source": [
    "# Generate half-azobenzene variations with the ring substituents\n",
    "half_azobenzene = Chem.MolFromSmiles('C1=CC=C(C=C1)/N=N')\n",
    "ring_sub_placement = [7]\n",
    "ring_subs = electron_donating_rings + electron_withdrawing_rings\n",
    "\n",
    "logging.info('Generating half-azobenzene variations with different rings')\n",
    "\n",
    "half_azobenzenes_ring_subs = generate_molecules(\n",
    "    half_azobenzene, ring_subs, ring_sub_placement, 1, min_subs=1)\n",
    "\n",
    "# Expand each of the molecules with the ring substituent by adding up to three additional substituents at the sub placements\n",
    "ring_positions = [0, 1, 2, 4, 5]\n",
    "logging.info(\"Adding subs to the half-azobenzene variations\")\n",
    "# Generate molecules with electron-donating substituents\n",
    "for mol in half_azobenzenes_ring_subs:\n",
    "    all_new_molecules.update_with_canonical_smiles(generate_and_print_molecules(\n",
    "        mol, electron_donating_substituents, left_ring_meta, 2, 'half-azobenzene', 'electron-donating meta'))\n",
    "    new_ortho = generate_and_print_molecules(\n",
    "        mol, electron_donating_substituents, left_ring_ortho, 2, 'half-azobenzene', 'electron-donating ortho')\n",
    "    all_new_molecules.update_with_canonical_smiles(new_ortho)\n",
    "    for ortho_mol in new_ortho:\n",
    "        added_para = generate_and_print_molecules(\n",
    "            mol, electron_donating_substituents, left_ring_para, 1, 'half-azobenzene', 'electron-donating para')\n",
    "        all_new_molecules.update_with_canonical_smiles(added_para)\n",
    "# Generate molecules with electron-withdrawing substituents\n",
    "for mol in half_azobenzenes_ring_subs:\n",
    "    all_new_molecules.update_with_canonical_smiles(generate_and_print_molecules(\n",
    "        mol, electron_withdrawing_substituents, left_ring_meta, 2, 'half-azobenzene', 'electron-withdrawing meta'))\n",
    "    new_ortho = generate_and_print_molecules(\n",
    "        mol, electron_withdrawing_substituents, left_ring_ortho, 2, 'half-azobenzene', 'electron-withdrawing ortho')\n",
    "    all_new_molecules.update_with_canonical_smiles(new_ortho)\n",
    "    for ortho_mol in new_ortho:\n",
    "        added_para = generate_and_print_molecules(\n",
    "            mol, electron_withdrawing_substituents, left_ring_para, 1, 'half-azobenzene', 'electron-withdrawing para')\n",
    "        all_new_molecules.update_with_canonical_smiles(added_para)\n",
    "\n",
    "        \n",
    "logging.info(\n",
    "    f\"Generated a total of {len(all_new_molecules)} new molecules.\")"
   ]
  },
  {
   "cell_type": "code",
   "execution_count": 42,
   "metadata": {},
   "outputs": [
    {
     "data": {
      "image/png": "[encoded data removed]",
      "text/plain": [
       "<rdkit.Chem.rdchem.Mol at 0x7f8fcfbe7b50>"
      ]
     },
     "execution_count": 42,
     "metadata": {},
     "output_type": "execute_result"
    }
   ],
   "source": [
    "extened_azobenzene = Chem.MolFromSmiles(\"c1cc2cc(/N=N/c3ccccc3)ccc2*1\")\n",
    "# add_atom_numbers(extened_azobenzene)\n",
    "extened_azobenzene"
   ]
  },
  {
   "cell_type": "code",
   "execution_count": 43,
   "metadata": {},
   "outputs": [],
   "source": [
    "ortho = [12, 3, 13, 8]\n",
    "\n",
    "right_posistions = [10, 12, 8]\n",
    "right_para = [8]\n",
    "right_meta = [11, 9]\n",
    "left_posisitons = [1, 14]\n",
    "left_para = [0]\n",
    "\n",
    "# Example usage:\n",
    "base_smiles = \"c1cc2cc(/N=N/c3ccccc3)ccc2*1\"\n",
    "atom_list = ['S', 'O', 'N', 'C']\n",
    "indices = [16]  # Indices of the atoms to replace (indices of '*' in the base_smiles)\n",
    "new_extended_azos = replace_atoms(base_smiles, atom_list, indices)"
   ]
  },
  {
   "cell_type": "code",
   "execution_count": 44,
   "metadata": {},
   "outputs": [
    {
     "name": "stderr",
     "output_type": "stream",
     "text": [
      "INFO:root:molecule 1/4\n"
     ]
    },
    {
     "name": "stderr",
     "output_type": "stream",
     "text": [
      "INFO:root:Generated a total of 9487 new molecules.\n"
     ]
    },
    {
     "name": "stdout",
     "output_type": "stream",
     "text": [
      "Adding ortho\n"
     ]
    },
    {
     "name": "stderr",
     "output_type": "stream",
     "text": [
      "INFO:root:Generated a total of 14214 new molecules.\n",
      "INFO:root:molecule 2/4\n",
      "INFO:root:Generated a total of 14318 new molecules.\n"
     ]
    },
    {
     "name": "stdout",
     "output_type": "stream",
     "text": [
      "Adding ortho\n"
     ]
    },
    {
     "name": "stderr",
     "output_type": "stream",
     "text": [
      "INFO:root:Generated a total of 19045 new molecules.\n",
      "INFO:root:molecule 3/4\n",
      "INFO:root:Generated a total of 19149 new molecules.\n"
     ]
    },
    {
     "name": "stdout",
     "output_type": "stream",
     "text": [
      "Adding ortho\n"
     ]
    },
    {
     "name": "stderr",
     "output_type": "stream",
     "text": [
      "INFO:root:Generated a total of 23876 new molecules.\n",
      "INFO:root:molecule 4/4\n",
      "INFO:root:Generated a total of 23980 new molecules.\n"
     ]
    },
    {
     "name": "stdout",
     "output_type": "stream",
     "text": [
      "Adding ortho\n"
     ]
    },
    {
     "name": "stderr",
     "output_type": "stream",
     "text": [
      "INFO:root:Generated a total of 28707 new molecules.\n"
     ]
    }
   ],
   "source": [
    "index = 1\n",
    "# Generate molecules with electron-donating substituents\n",
    "for mol in new_extended_azos:\n",
    "    logging.info(f\"molecule {index}/{len(new_extended_azos)}\")\n",
    "    # Electron donating on left side\n",
    "    with_subs_left = generate_and_print_molecules(\n",
    "    mol, electron_donating_substituents, left_posisitons, 1, 'extended azobenzene left', 'electron-donating subs')\n",
    "    all_new_molecules.update_with_canonical_smiles(with_subs_left)\n",
    "                  \n",
    "    # Generate molecules with electron-withdrawing substituents\n",
    "    for left_subs_mol in with_subs_left:\n",
    "        with_subs = generate_and_print_molecules(\n",
    "            mol, electron_withdrawing_substituents, right_meta, 2, 'extended azobenzene right meta', 'electron-withdrawing subs')\n",
    "    \n",
    "        all_new_molecules.update_with_canonical_smiles(with_subs)\n",
    "\n",
    "        with_subs_para = generate_and_print_molecules(\n",
    "            mol, electron_withdrawing_substituents, right_para, 1, 'extended azobenzene right para', 'electron-withdrawing subs')\n",
    "    \n",
    "        all_new_molecules.update_with_canonical_smiles(with_subs_para)\n",
    "\n",
    "    with_subs_left_ewg = generate_and_print_molecules(\n",
    "    mol, electron_withdrawing_substituents, left_posisitons, 1, 'extended azobenzene', 'electron-withdrawing subs')\n",
    "    all_new_molecules.update_with_canonical_smiles(with_subs_left_ewg)\n",
    "\n",
    "    # Generate molecules with electron-donating substituents on right side\n",
    "    for left_subs_mol in with_subs_left_ewg:\n",
    "        with_subs = generate_and_print_molecules(\n",
    "            mol, electron_donating_substituents, right_meta, 2, 'extended azobenzene right meta', 'electron-donating subs')\n",
    "    \n",
    "        all_new_molecules.update_with_canonical_smiles(with_subs)\n",
    "\n",
    "        with_subs_para = generate_and_print_molecules(\n",
    "            mol, electron_donating_substituents, right_para, 1, 'extended azobenzene right para', 'electron-donating subs')\n",
    "    \n",
    "        all_new_molecules.update_with_canonical_smiles(with_subs_para)\n",
    "    logging.info(\n",
    "    f\"Generated a total of {len(all_new_molecules)} new molecules.\")\n",
    "    print(\"Adding ortho\")\n",
    "    # Add substituents that destabilize the z isomer\n",
    "    steric_extended_azobenzenes = generate_and_print_molecules(\n",
    "        mol, steric_blocking_substituents, ortho, 2, 'both', 'ortho')\n",
    "\n",
    "    for new_steric_azobenzene_right in steric_extended_azobenzenes:\n",
    "        more_steric_azobenzenes_right = generate_molecules(\n",
    "            new_steric_azobenzene_right, electron_withdrawing_substituents, right_para, 1)\n",
    "        for new_azobenzene_left in more_steric_azobenzenes_right:\n",
    "            more_steric_azobenzenes = generate_molecules(\n",
    "                new_azobenzene_left, electron_donating_substituents, left_para, 1)\n",
    "            all_new_molecules.update_with_canonical_smiles(more_steric_azobenzenes)\n",
    "            \n",
    "    for new_steric_azobenzene_left in steric_extended_azobenzenes:\n",
    "        more_steric_azobenzenes_left = generate_molecules(\n",
    "            new_steric_azobenzene_left, electron_withdrawing_substituents, left_para, 1)\n",
    "        for new_azobenzene_right in more_steric_azobenzenes_left:\n",
    "            more_steric_azobenzenes = generate_molecules(\n",
    "                new_azobenzene_right, electron_donating_substituents, right_para, 1)\n",
    "            all_new_molecules.update_with_canonical_smiles(more_steric_azobenzenes)\n",
    "            \n",
    "    logging.info(\n",
    "    f\"Generated a total of {len(all_new_molecules)} new molecules.\")\n",
    "    index += 1"
   ]
  },
  {
   "cell_type": "code",
   "execution_count": 45,
   "metadata": {},
   "outputs": [
    {
     "data": {
      "image/png": "[encoded data removed]",
      "text/plain": [
       "<rdkit.Chem.rdchem.Mol at 0x7f8fcf809150>"
      ]
     },
     "execution_count": 45,
     "metadata": {},
     "output_type": "execute_result"
    }
   ],
   "source": [
    "# Load the azobenzene structure\n",
    "long_azobenzene = Chem.MolFromSmiles('c4ccc3cc(/N=N/c1ccccc1)ccc3c4')\n",
    "# add_atom_numbers(long_azobenzene)\n",
    "long_azobenzene"
   ]
  },
  {
   "cell_type": "code",
   "execution_count": 46,
   "metadata": {},
   "outputs": [
    {
     "name": "stderr",
     "output_type": "stream",
     "text": [
      "INFO:root:Generating push-pull azobenzene variations\n",
      "INFO:root:Generated a total of 29290 new molecules.\n",
      "INFO:root:Generating azobenzene variations that hinder ts\n",
      "INFO:root:Generated a total of 32098 new molecules.\n"
     ]
    }
   ],
   "source": [
    "# Generate azobenzene variations\n",
    "azobenzene = long_azobenzene\n",
    "\n",
    "ortho_positions = [4, 14, 9, 13]\n",
    "meta_positions = [2, 17, 10, 12]\n",
    "para_positions = [0, 11]\n",
    "\n",
    "left_ring = [0, 4, 18]\n",
    "left_ring_meta = [2]\n",
    "left_ring_ortho = [4, 14]\n",
    "left_ring_para = [0]\n",
    "\n",
    "right_ring = [10, 12, 13, 9]\n",
    "right_ring_meta = [12, 10]\n",
    "right_ring_ortho = [9, 13]\n",
    "right_ring_para = [11]\n",
    "max_subs_para = 1\n",
    "max_subs_ortho = 2\n",
    "max_subs_meta = 2\n",
    "\n",
    "logging.info('Generating push-pull azobenzene variations')\n",
    "\n",
    "# Generate molecules with electron-donating substituents on the left ring\n",
    "long_azobenzenes_meta = generate_and_print_molecules(\n",
    "    azobenzene, electron_donating_substituents, left_ring_meta, 1, 'left', 'meta')\n",
    "long_azobenzenes_para = generate_and_print_molecules(\n",
    "    azobenzene, electron_donating_substituents, left_ring_para, max_subs_para, 'left', 'para')\n",
    "\n",
    "# Generate molecules with electron-withdrawing substituents on the right ring\n",
    "for new_azobenzene in long_azobenzenes_meta:\n",
    "    all_new_molecules.update_with_canonical_smiles(generate_and_print_molecules(\n",
    "        new_azobenzene, electron_withdrawing_substituents, right_ring_meta, max_subs_meta, 'right', 'meta'))\n",
    "    all_new_molecules.update_with_canonical_smiles(generate_and_print_molecules(\n",
    "        new_azobenzene, electron_withdrawing_substituents, right_ring_para, max_subs_para, 'right', 'para'))\n",
    "\n",
    "for new_azobenzene in long_azobenzenes_para:\n",
    "    all_new_molecules.update_with_canonical_smiles(generate_and_print_molecules(\n",
    "        new_azobenzene, electron_withdrawing_substituents, right_ring_meta, max_subs_meta, 'right', 'meta'))\n",
    "    all_new_molecules.update_with_canonical_smiles(generate_and_print_molecules(\n",
    "        new_azobenzene, electron_withdrawing_substituents, right_ring_para, max_subs_para, 'right', 'para'))\n",
    "logging.info(\n",
    "    f\"Generated a total of {len(all_new_molecules)} new molecules.\")\n",
    "logging.info('Generating azobenzene variations that hinder ts')\n",
    "\n",
    "# Add substituents that destabilize the z isomer\n",
    "steric_long_azobenzenes = generate_and_print_molecules(\n",
    "    azobenzene, steric_blocking_substituents, ortho_positions, max_subs_ortho, 'both', 'ortho')\n",
    "\n",
    "for new_steric_azobenzene_right in steric_long_azobenzenes:\n",
    "    more_steric_azobenzenes_right = generate_molecules(\n",
    "        new_steric_azobenzene_right, electron_withdrawing_substituents, right_ring_para, 1)\n",
    "    for new_azobenzene_left in more_steric_azobenzenes_right:\n",
    "        more_steric_azobenzenes = generate_molecules(\n",
    "            new_azobenzene_left, electron_donating_substituents, left_ring_para, 1)\n",
    "        all_new_molecules.update_with_canonical_smiles(more_steric_azobenzenes)\n",
    "logging.info(\n",
    "    f\"Generated a total of {len(all_new_molecules)} new molecules.\")"
   ]
  },
  {
   "cell_type": "code",
   "execution_count": 47,
   "metadata": {},
   "outputs": [
    {
     "name": "stderr",
     "output_type": "stream",
     "text": [
      "32098it [01:05, 492.18it/s]\n"
     ]
    }
   ],
   "source": [
    "input_df = pd.DataFrame(\n",
    "    columns=['comp_name', 'smiles', 'charge', 'multiplicity'])\n",
    "\n",
    "for smiles in tqdm(all_new_molecules.smiles()):\n",
    "    comp_hash = get_hashed_label(smiles)\n",
    "    comp_name = f\"azo_{comp_hash}\"\n",
    "    charge = 0\n",
    "    multiplicity = 1\n",
    "\n",
    "    input_df = pd.concat([input_df, pd.DataFrame(\n",
    "        [{'comp_name': comp_name, 'smiles': smiles, 'charge': charge, 'multiplicity': multiplicity}])], ignore_index=True)\n",
    "\n",
    "# input_df['molecular_weight'] = input_df['smiles'].apply(\n",
    "#     lambda x: Descriptors.MolWt(Chem.MolFromSmiles(x)))"
   ]
  },
  {
   "cell_type": "code",
   "execution_count": 48,
   "metadata": {},
   "outputs": [],
   "source": [
    "# save to csv\n",
    "input_df.to_csv('molecules.csv', index=False)"
   ]
  },
  {
   "cell_type": "code",
   "execution_count": null,
   "metadata": {},
   "outputs": [],
   "source": []
  }
 ],
 "metadata": {
  "kernelspec": {
   "display_name": "base",
   "language": "python",
   "name": "python3"
  },
  "language_info": {
   "codemirror_mode": {
    "name": "ipython",
    "version": 3
   },
   "file_extension": ".py",
   "mimetype": "text/x-python",
   "name": "python",
   "nbconvert_exporter": "python",
   "pygments_lexer": "ipython3",
   "version": "3.10.10"
  },
  "orig_nbformat": 4
 },
 "nbformat": 4,
 "nbformat_minor": 2
}
